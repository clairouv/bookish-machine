{
 "cells": [
  {
   "cell_type": "code",
   "execution_count": null,
   "metadata": {},
   "outputs": [],
   "source": [
    "#dict test aerien\n",
    "user_dict = {}\n",
    "user_dict['discrimVariables'] = {}\n",
    "user_dict['categorie'] = 'voyage_aerien'\n",
    "user_dict['discrimVariables']['Retard subi'] = 'Plus de 4 heures'\n",
    "\n",
    "print (user_dict)"
   ]
  },
  {
   "cell_type": "code",
   "execution_count": null,
   "metadata": {},
   "outputs": [],
   "source": [
    "#dict test travail\n",
    "user_dict = {}\n",
    "user_dict['discrimVariables'] = {}\n",
    "user_dict['categorie'] = 'travail'\n",
    "user_dict['discrimVariables']['motif'] = 'Cessation'\n",
    "user_dict['discrimVariables']['anciennete'] = 'OUI'\n",
    "\n",
    "print (user_dict)"
   ]
  },
  {
   "cell_type": "markdown",
   "metadata": {},
   "source": [
    "SI (RETARD SUBI est Entre 3 et 4 heures OU Plus de 4 heures)\n",
    "ET (INTÉRÊT DU VOL est Oui OU Non) ALORS ÉLIGIBLE\n",
    "\n",
    "NB : Si la notification de licenciement est antérieure au 23/09/2017, l'ancienneté dans l'entreprise doit être d'au moins un an. Si la notificaiton est postérieure à cette date, elle doit être d'au moins 8 mois. \n",
    "SI (MOTIF DU LICENCIEMENT est (Personnel ou Économique ou Dû à une cessation ou dissolution de l’entreprise) ET (ANCIENNETÉ est Oui) ALORS ÉLIGIBLE"
   ]
  },
  {
   "cell_type": "markdown",
   "metadata": {},
   "source": [
    "# Test parsing"
   ]
  },
  {
   "cell_type": "markdown",
   "metadata": {},
   "source": [
    "SI (#['Retard subi'] - 'Entre 3 et 4 heures' or  #['Retard subi'] - 'Plus de 4 heures') and (#['Intérêt du vol'] = Oui OR Non) ALORS ÉLIGIBLE"
   ]
  },
  {
   "cell_type": "code",
   "execution_count": null,
   "metadata": {},
   "outputs": [],
   "source": [
    "def parsing(rule):\n",
    "    rule = rule.replace(\"SI\", \"if\")\n",
    "    rule = rule.replace(\"#\",\"user_dict['discrimVariables']\")\n",
    "    rule = rule.replace(\"=\", \"==\")\n",
    "    rule = rule.replace(\"ALORS\", \":\")\n",
    "    rule = rule.replace(\"ÉLIGIBLE\", \"user_dict['result'] = 'Eligible'\")\n",
    "    #rule = rule.replace(\"or\", \"\\n or\")\n",
    "    #rule = rule.replace(\"and\", \"\\n and\")\n",
    "    #print(rule)\n",
    "    return rule\n",
    "    \n",
    "    "
   ]
  },
  {
   "cell_type": "code",
   "execution_count": null,
   "metadata": {},
   "outputs": [],
   "source": [
    "rule = \"SI (#['Retard subi'] = 'Entre 3 et 4 heures' or  #['Retard subi'] = 'Plus de 4 heures') and (#['Intérêt du vol'] = Oui or #['Intérêt du vol'] = Non) ALORS ÉLIGIBLE\""
   ]
  },
  {
   "cell_type": "code",
   "execution_count": null,
   "metadata": {},
   "outputs": [],
   "source": [
    "parsing(rule)"
   ]
  },
  {
   "cell_type": "code",
   "execution_count": null,
   "metadata": {},
   "outputs": [],
   "source": [
    "hour_to_min('12:34')"
   ]
  },
  {
   "cell_type": "markdown",
   "metadata": {},
   "source": [
    "# Rules Modelisation"
   ]
  },
  {
   "cell_type": "code",
   "execution_count": null,
   "metadata": {},
   "outputs": [],
   "source": [
    "from time import time\n",
    "import datetime\n",
    "from collections import defaultdict\n",
    "import json\n",
    "import datetime"
   ]
  },
  {
   "cell_type": "code",
   "execution_count": null,
   "metadata": {},
   "outputs": [],
   "source": [
    "def json_to_dict(jsonfile):\n",
    "    with open(jsonfile) as json_data:\n",
    "        user_dict = json.load(json_data)\n",
    "        user_dict = defaultdict(str, user_dict)\n",
    "        user_dict['type'] = user_dict['subcategory'].split('_')[0]\n",
    "        print( dict.__repr__(user_dict))\n",
    "        return user_dict       \n",
    "    "
   ]
  },
  {
   "cell_type": "code",
   "execution_count": null,
   "metadata": {},
   "outputs": [],
   "source": [
    "def time_code(beginning):\n",
    "    end = time()\n",
    "    time_norm = str(end - beginning)\n",
    "    print('Took: %s seconds' %time_norm)"
   ]
  },
  {
   "cell_type": "code",
   "execution_count": null,
   "metadata": {},
   "outputs": [],
   "source": [
    "def hour_to_min(time):\n",
    "    return sum(i*j for i,j in zip(map(int, time.split(':')), [60,1]))"
   ]
  },
  {
   "cell_type": "code",
   "execution_count": null,
   "metadata": {},
   "outputs": [],
   "source": [
    "def rule_evaluation(json):\n",
    "    \n",
    "    user_dict = json_to_dict(json)\n",
    "    beginning = time() \n",
    "    \n",
    "    \n",
    "    #CATEGORY VOYAGE\n",
    "    if user_dict['type'] == 'voyage':\n",
    "        if user_dict['subcategory'] == 'voyage_aerien_retard':\n",
    "            if (user_dict['discrimVariables']['Retard subi'] == 'Plus de 4 heures' \n",
    "                or user_dict['discrimVariables']['Retard subi'] == 'Entre 3 et 4 heures'):\n",
    "                    user_dict['result'] = 'Eligible'\n",
    "                    print(user_dict['result'])\n",
    "                    time_code(beginning)\n",
    "                    return\n",
    "        \n",
    "        \n",
    "        if user_dict['subcategory'] == 'voyage_ferre_retard_international':\n",
    "            if (hour_to_min(user_dict['discrimVariables']['Retard subi']) >= 30):\n",
    "                user_dict['result'] = 'Eligible'\n",
    "                print(user_dict['result'])\n",
    "                time_code(beginning)\n",
    "                return\n",
    "            \n",
    "        if user_dict['subcategory'] == 'voyage_ferre_retard_ouigo':\n",
    "            if (hour_to_min(user_dict['discrimVariables']['Retard subi']) >= 60):\n",
    "                user_dict['result'] = 'Eligible'\n",
    "                print(user_dict['result'])\n",
    "                time_code(beginning)\n",
    "                return\n",
    "            \n",
    "        if user_dict['subcategory'] == 'voyage_ferre_regional':\n",
    "            if (hour_to_min(user_dict['discrimVariables']['Retard subi']) >= 30):\n",
    "                user_dict['result'] = 'Eligible'\n",
    "                print(user_dict['result'])\n",
    "                time_code(beginning)\n",
    "                return\n",
    "            \n",
    "        if user_dict['subcategory'] == 'voyage_ferre_retard_tgv':\n",
    "            if (hour_to_min(user_dict['discrimVariables']['Retard subi']) >= 30):\n",
    "                user_dict['result'] = 'Eligible'\n",
    "                print(user_dict['result'])\n",
    "                time_code(beginning)\n",
    "                return\n",
    "                      \n",
    "            \n",
    "        \n",
    "    #CATEGORY TRAVAIL\n",
    "    elif user_dict['type'] =='travail':\n",
    "        if user_dict['subcategory'] == 'travail_travail':\n",
    "            if ((user_dict['discrimVariables']['motif'] == 'Personnel' \n",
    "                or user_dict['discrimVariables']['motif'] == 'Economique' \n",
    "                or user_dict['discrimVariables']['motif'] == 'Cessation')\n",
    "                and user_dict['discrimVariables']['anciennete'] == 'OUI'):\n",
    "                    user_dict['result'] = 'Eligible'\n",
    "                    print(user_dict['result'])\n",
    "                    time_code(beginning)\n",
    "                    return\n",
    "                \n",
    "    \n",
    "    "
   ]
  },
  {
   "cell_type": "code",
   "execution_count": null,
   "metadata": {},
   "outputs": [],
   "source": [
    "rule_evaluation('test.json')"
   ]
  },
  {
   "cell_type": "markdown",
   "metadata": {},
   "source": [
    "# Sous forme de classe"
   ]
  },
  {
   "cell_type": "code",
   "execution_count": 1,
   "metadata": {},
   "outputs": [],
   "source": [
    "from time import time\n",
    "import datetime\n",
    "from collections import defaultdict\n",
    "import json\n",
    "import datetime"
   ]
  },
  {
   "cell_type": "code",
   "execution_count": 2,
   "metadata": {},
   "outputs": [],
   "source": [
    "def time_code(beginning):\n",
    "    end = time()\n",
    "    time_norm = str(end - beginning)\n",
    "    print('Took: %s seconds' %time_norm)\n",
    "\n",
    "    \n",
    "def json_to_dict(jsonfile):\n",
    "    with open(jsonfile) as json_data:\n",
    "        user_dict = defaultdict(str, json.load(json_data))\n",
    "        return user_dict \n",
    "\n",
    "class voyage_aerien_retard:\n",
    "    \n",
    "    def __init__(self):\n",
    "        self.result = ''\n",
    "    \n",
    "    def evaluate_eligibility(self, json):\n",
    "        user_dict = json_to_dict(json)\n",
    "        beginning = time() \n",
    "    \n",
    "        if (user_dict['discrimVariables']['Retard subi'] == 'Plus de 4 heures' \n",
    "            or user_dict['discrimVariables']['Retard subi'] == 'Entre 3 et 4 heures'):\n",
    "                user_dict['result'] = 'Eligible'\n",
    "                self.result = 'Eligible'\n",
    "                time_code(beginning)\n",
    "                return self.result\n",
    "        "
   ]
  },
  {
   "cell_type": "code",
   "execution_count": 3,
   "metadata": {},
   "outputs": [
    {
     "name": "stdout",
     "output_type": "stream",
     "text": [
      "Took: 2.86102294921875e-06 seconds\n"
     ]
    },
    {
     "data": {
      "text/plain": [
       "'Eligible'"
      ]
     },
     "execution_count": 3,
     "metadata": {},
     "output_type": "execute_result"
    }
   ],
   "source": [
    "user = voyage_aerien_retard()\n",
    "user.evaluate_eligibility('test.json')"
   ]
  },
  {
   "cell_type": "code",
   "execution_count": null,
   "metadata": {},
   "outputs": [],
   "source": []
  }
 ],
 "metadata": {
  "kernelspec": {
   "display_name": "Python 3",
   "language": "python",
   "name": "python3"
  },
  "language_info": {
   "codemirror_mode": {
    "name": "ipython",
    "version": 3
   },
   "file_extension": ".py",
   "mimetype": "text/x-python",
   "name": "python",
   "nbconvert_exporter": "python",
   "pygments_lexer": "ipython3",
   "version": "3.6.5"
  }
 },
 "nbformat": 4,
 "nbformat_minor": 2
}
